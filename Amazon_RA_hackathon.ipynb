{
 "cells": [
  {
   "cell_type": "markdown",
   "metadata": {},
   "source": [
    "__Our challenge is to predict 'FitmentPercent' on test data by predicting the 'BiasInfluentialFactor' first.__"
   ]
  },
  {
   "cell_type": "code",
   "execution_count": 1,
   "metadata": {},
   "outputs": [],
   "source": [
    "#Importing required libraries\n",
    "import pandas as pd\n",
    "import numpy as np\n",
    "import seaborn as sns\n",
    "import matplotlib.pyplot as plt\n",
    "from lightgbm import LGBMClassifier\n",
    "\n",
    "from sklearn.metrics import roc_auc_score\n",
    "from sklearn.metrics import confusion_matrix\n",
    "from sklearn.model_selection import train_test_split\n",
    "\n",
    "import warnings\n",
    "warnings.filterwarnings('always')\n",
    "warnings.filterwarnings('ignore')"
   ]
  },
  {
   "cell_type": "code",
   "execution_count": 2,
   "metadata": {},
   "outputs": [],
   "source": [
    "#Reading the data into train and test variables\n",
    "train = pd.read_csv(r'C:\\Users\\namateti\\Downloads\\0753aae4bec411eb\\Train.csv')\n",
    "test = pd.read_csv(r'C:\\Users\\namateti\\Downloads\\0753aae4bec411eb\\Test.csv')"
   ]
  },
  {
   "cell_type": "code",
   "execution_count": 3,
   "metadata": {},
   "outputs": [
    {
     "data": {
      "text/plain": [
       "((13645, 22), (8745, 20))"
      ]
     },
     "execution_count": 3,
     "metadata": {},
     "output_type": "execute_result"
    }
   ],
   "source": [
    "train.shape, test.shape"
   ]
  },
  {
   "cell_type": "code",
   "execution_count": 4,
   "metadata": {},
   "outputs": [
    {
     "data": {
      "text/html": [
       "<div>\n",
       "<style scoped>\n",
       "    .dataframe tbody tr th:only-of-type {\n",
       "        vertical-align: middle;\n",
       "    }\n",
       "\n",
       "    .dataframe tbody tr th {\n",
       "        vertical-align: top;\n",
       "    }\n",
       "\n",
       "    .dataframe thead th {\n",
       "        text-align: right;\n",
       "    }\n",
       "</style>\n",
       "<table border=\"1\" class=\"dataframe\">\n",
       "  <thead>\n",
       "    <tr style=\"text-align: right;\">\n",
       "      <th></th>\n",
       "      <th>EmpID</th>\n",
       "      <th>EmpName</th>\n",
       "      <th>LanguageOfCommunication</th>\n",
       "      <th>Age</th>\n",
       "      <th>Gender</th>\n",
       "      <th>JobProfileIDApplyingFor</th>\n",
       "      <th>HighestDegree</th>\n",
       "      <th>DegreeBranch</th>\n",
       "      <th>GraduatingInstitute</th>\n",
       "      <th>LatestDegreeCGPA</th>\n",
       "      <th>...</th>\n",
       "      <th>CurrentCTC</th>\n",
       "      <th>ExpectedCTC</th>\n",
       "      <th>MartialStatus</th>\n",
       "      <th>EmpScore</th>\n",
       "      <th>CurrentDesignation</th>\n",
       "      <th>CurrentCompanyType</th>\n",
       "      <th>DepartmentInCompany</th>\n",
       "      <th>TotalLeavesTaken</th>\n",
       "      <th>BiasInfluentialFactor</th>\n",
       "      <th>FitmentPercent</th>\n",
       "    </tr>\n",
       "  </thead>\n",
       "  <tbody>\n",
       "    <tr>\n",
       "      <th>0</th>\n",
       "      <td>11041</td>\n",
       "      <td>John</td>\n",
       "      <td>English</td>\n",
       "      <td>35</td>\n",
       "      <td>Male</td>\n",
       "      <td>JR85289</td>\n",
       "      <td>B.Tech</td>\n",
       "      <td>Electrical</td>\n",
       "      <td>Tier 1</td>\n",
       "      <td>7</td>\n",
       "      <td>...</td>\n",
       "      <td>21</td>\n",
       "      <td>26</td>\n",
       "      <td>Married</td>\n",
       "      <td>5</td>\n",
       "      <td>SSE</td>\n",
       "      <td>Enterprise</td>\n",
       "      <td>Design</td>\n",
       "      <td>20</td>\n",
       "      <td>YearsOfExperince</td>\n",
       "      <td>95.40</td>\n",
       "    </tr>\n",
       "    <tr>\n",
       "      <th>1</th>\n",
       "      <td>15079</td>\n",
       "      <td>William</td>\n",
       "      <td>English</td>\n",
       "      <td>26</td>\n",
       "      <td>Male</td>\n",
       "      <td>JR87525</td>\n",
       "      <td>B.Tech</td>\n",
       "      <td>Artificial Intelligence</td>\n",
       "      <td>Tier 3</td>\n",
       "      <td>7</td>\n",
       "      <td>...</td>\n",
       "      <td>15</td>\n",
       "      <td>19</td>\n",
       "      <td>Married</td>\n",
       "      <td>5</td>\n",
       "      <td>BA</td>\n",
       "      <td>MidSized</td>\n",
       "      <td>Engineering</td>\n",
       "      <td>6</td>\n",
       "      <td>NaN</td>\n",
       "      <td>67.09</td>\n",
       "    </tr>\n",
       "    <tr>\n",
       "      <th>2</th>\n",
       "      <td>18638</td>\n",
       "      <td>James</td>\n",
       "      <td>English</td>\n",
       "      <td>36</td>\n",
       "      <td>Female</td>\n",
       "      <td>JR87525</td>\n",
       "      <td>PhD</td>\n",
       "      <td>Computer Science</td>\n",
       "      <td>Tier 1</td>\n",
       "      <td>6</td>\n",
       "      <td>...</td>\n",
       "      <td>15</td>\n",
       "      <td>24</td>\n",
       "      <td>Single</td>\n",
       "      <td>5</td>\n",
       "      <td>SDE</td>\n",
       "      <td>MidSized</td>\n",
       "      <td>Engineering</td>\n",
       "      <td>19</td>\n",
       "      <td>Gender</td>\n",
       "      <td>91.26</td>\n",
       "    </tr>\n",
       "    <tr>\n",
       "      <th>3</th>\n",
       "      <td>3941</td>\n",
       "      <td>Charles</td>\n",
       "      <td>English</td>\n",
       "      <td>29</td>\n",
       "      <td>Female</td>\n",
       "      <td>JR87525</td>\n",
       "      <td>BCA</td>\n",
       "      <td>Information Technology</td>\n",
       "      <td>Tier 2</td>\n",
       "      <td>5</td>\n",
       "      <td>...</td>\n",
       "      <td>16</td>\n",
       "      <td>24</td>\n",
       "      <td>Married</td>\n",
       "      <td>5</td>\n",
       "      <td>SDE</td>\n",
       "      <td>Startup</td>\n",
       "      <td>Product</td>\n",
       "      <td>16</td>\n",
       "      <td>Gender</td>\n",
       "      <td>72.29</td>\n",
       "    </tr>\n",
       "    <tr>\n",
       "      <th>4</th>\n",
       "      <td>5936</td>\n",
       "      <td>George</td>\n",
       "      <td>English</td>\n",
       "      <td>25</td>\n",
       "      <td>Male</td>\n",
       "      <td>JR70175</td>\n",
       "      <td>Dual M.Tech</td>\n",
       "      <td>Computer Science</td>\n",
       "      <td>Tier 3</td>\n",
       "      <td>8</td>\n",
       "      <td>...</td>\n",
       "      <td>24</td>\n",
       "      <td>32</td>\n",
       "      <td>Married</td>\n",
       "      <td>5</td>\n",
       "      <td>SDE</td>\n",
       "      <td>Enterprise</td>\n",
       "      <td>Engineering</td>\n",
       "      <td>10</td>\n",
       "      <td>DegreeBranch</td>\n",
       "      <td>86.34</td>\n",
       "    </tr>\n",
       "  </tbody>\n",
       "</table>\n",
       "<p>5 rows × 22 columns</p>\n",
       "</div>"
      ],
      "text/plain": [
       "   EmpID  EmpName LanguageOfCommunication  Age  Gender  \\\n",
       "0  11041     John                 English   35    Male   \n",
       "1  15079  William                 English   26    Male   \n",
       "2  18638    James                 English   36  Female   \n",
       "3   3941  Charles                 English   29  Female   \n",
       "4   5936   George                 English   25    Male   \n",
       "\n",
       "  JobProfileIDApplyingFor HighestDegree             DegreeBranch  \\\n",
       "0                 JR85289        B.Tech               Electrical   \n",
       "1                 JR87525        B.Tech  Artificial Intelligence   \n",
       "2                 JR87525           PhD         Computer Science   \n",
       "3                 JR87525           BCA   Information Technology   \n",
       "4                 JR70175   Dual M.Tech         Computer Science   \n",
       "\n",
       "  GraduatingInstitute  LatestDegreeCGPA  ...  CurrentCTC  ExpectedCTC  \\\n",
       "0              Tier 1                 7  ...          21           26   \n",
       "1              Tier 3                 7  ...          15           19   \n",
       "2              Tier 1                 6  ...          15           24   \n",
       "3              Tier 2                 5  ...          16           24   \n",
       "4              Tier 3                 8  ...          24           32   \n",
       "\n",
       "   MartialStatus  EmpScore CurrentDesignation  CurrentCompanyType  \\\n",
       "0        Married         5                SSE          Enterprise   \n",
       "1        Married         5                 BA            MidSized   \n",
       "2         Single         5                SDE            MidSized   \n",
       "3        Married         5                SDE             Startup   \n",
       "4        Married         5                SDE          Enterprise   \n",
       "\n",
       "  DepartmentInCompany TotalLeavesTaken BiasInfluentialFactor  FitmentPercent  \n",
       "0              Design               20      YearsOfExperince           95.40  \n",
       "1         Engineering                6                   NaN           67.09  \n",
       "2         Engineering               19                Gender           91.26  \n",
       "3             Product               16                Gender           72.29  \n",
       "4         Engineering               10          DegreeBranch           86.34  \n",
       "\n",
       "[5 rows x 22 columns]"
      ]
     },
     "execution_count": 4,
     "metadata": {},
     "output_type": "execute_result"
    }
   ],
   "source": [
    "train.head()"
   ]
  },
  {
   "cell_type": "code",
   "execution_count": 8,
   "metadata": {},
   "outputs": [
    {
     "name": "stdout",
     "output_type": "stream",
     "text": [
      "<class 'pandas.core.frame.DataFrame'>\n",
      "RangeIndex: 13645 entries, 0 to 13644\n",
      "Data columns (total 22 columns):\n",
      " #   Column                   Non-Null Count  Dtype  \n",
      "---  ------                   --------------  -----  \n",
      " 0   EmpID                    13645 non-null  int64  \n",
      " 1   EmpName                  13645 non-null  object \n",
      " 2   LanguageOfCommunication  13645 non-null  object \n",
      " 3   Age                      13645 non-null  int64  \n",
      " 4   Gender                   13645 non-null  object \n",
      " 5   JobProfileIDApplyingFor  13645 non-null  object \n",
      " 6   HighestDegree            13645 non-null  object \n",
      " 7   DegreeBranch             13645 non-null  object \n",
      " 8   GraduatingInstitute      13645 non-null  object \n",
      " 9   LatestDegreeCGPA         13645 non-null  int64  \n",
      " 10  YearsOfExperince         13645 non-null  int64  \n",
      " 11  GraduationYear           13645 non-null  int64  \n",
      " 12  CurrentCTC               13645 non-null  int64  \n",
      " 13  ExpectedCTC              13645 non-null  int64  \n",
      " 14  MartialStatus            13645 non-null  object \n",
      " 15  EmpScore                 13645 non-null  int64  \n",
      " 16  CurrentDesignation       13645 non-null  object \n",
      " 17  CurrentCompanyType       13645 non-null  object \n",
      " 18  DepartmentInCompany      13645 non-null  object \n",
      " 19  TotalLeavesTaken         13645 non-null  int64  \n",
      " 20  BiasInfluentialFactor    10309 non-null  object \n",
      " 21  FitmentPercent           13645 non-null  float64\n",
      "dtypes: float64(1), int64(9), object(12)\n",
      "memory usage: 2.3+ MB\n"
     ]
    }
   ],
   "source": [
    "train.info()"
   ]
  },
  {
   "cell_type": "code",
   "execution_count": 6,
   "metadata": {},
   "outputs": [
    {
     "data": {
      "text/plain": [
       "EmpID                         0\n",
       "EmpName                       0\n",
       "LanguageOfCommunication       0\n",
       "Age                           0\n",
       "Gender                        0\n",
       "JobProfileIDApplyingFor       0\n",
       "HighestDegree                 0\n",
       "DegreeBranch                  0\n",
       "GraduatingInstitute           0\n",
       "LatestDegreeCGPA              0\n",
       "YearsOfExperince              0\n",
       "GraduationYear                0\n",
       "CurrentCTC                    0\n",
       "ExpectedCTC                   0\n",
       "MartialStatus                 0\n",
       "EmpScore                      0\n",
       "CurrentDesignation            0\n",
       "CurrentCompanyType            0\n",
       "DepartmentInCompany           0\n",
       "TotalLeavesTaken              0\n",
       "BiasInfluentialFactor      3336\n",
       "FitmentPercent                0\n",
       "dtype: int64"
      ]
     },
     "execution_count": 6,
     "metadata": {},
     "output_type": "execute_result"
    }
   ],
   "source": [
    "train.isnull().sum()"
   ]
  },
  {
   "cell_type": "code",
   "execution_count": 7,
   "metadata": {},
   "outputs": [
    {
     "data": {
      "text/plain": [
       "EmpID                      0\n",
       "EmpName                    0\n",
       "LanguageOfCommunication    0\n",
       "Age                        0\n",
       "Gender                     0\n",
       "JobProfileIDApplyingFor    0\n",
       "HighestDegree              0\n",
       "DegreeBranch               0\n",
       "GraduatingInstitute        0\n",
       "LatestDegreeCGPA           0\n",
       "YearsOfExperince           0\n",
       "GraduationYear             0\n",
       "CurrentCTC                 0\n",
       "ExpectedCTC                0\n",
       "MartialStatus              0\n",
       "EmpScore                   0\n",
       "CurrentDesignation         0\n",
       "CurrentCompanyType         0\n",
       "DepartmentInCompany        0\n",
       "TotalLeavesTaken           0\n",
       "dtype: int64"
      ]
     },
     "execution_count": 7,
     "metadata": {},
     "output_type": "execute_result"
    }
   ],
   "source": [
    "test.isnull().sum()"
   ]
  },
  {
   "cell_type": "markdown",
   "metadata": {},
   "source": [
    "__We could see train data has null values in 'BiasInfluentialFactor' column__"
   ]
  },
  {
   "cell_type": "code",
   "execution_count": 6,
   "metadata": {},
   "outputs": [
    {
     "data": {
      "text/plain": [
       "DegreeBranch          2858\n",
       "Gender                2605\n",
       "YearsOfExperince      1561\n",
       "CurrentCompanyType    1174\n",
       "EmpScore               659\n",
       "HighestDegree          582\n",
       "Ethinicity             328\n",
       "MartialStatus          280\n",
       "LatestDegreeCGPA       262\n",
       "Name: BiasInfluentialFactor, dtype: int64"
      ]
     },
     "execution_count": 6,
     "metadata": {},
     "output_type": "execute_result"
    }
   ],
   "source": [
    "train['BiasInfluentialFactor'].value_counts()"
   ]
  },
  {
   "cell_type": "markdown",
   "metadata": {},
   "source": [
    "__Since it has multiple categories we cannot just impute null values with mode. So imputing with 'Unknown' value.__"
   ]
  },
  {
   "cell_type": "code",
   "execution_count": 7,
   "metadata": {},
   "outputs": [],
   "source": [
    "train['BiasInfluentialFactor']= train['BiasInfluentialFactor'].fillna('Unknown')"
   ]
  },
  {
   "cell_type": "code",
   "execution_count": 8,
   "metadata": {},
   "outputs": [
    {
     "data": {
      "text/plain": [
       "array(['YearsOfExperince', 'Unknown', 'Gender', 'DegreeBranch',\n",
       "       'CurrentCompanyType', 'MartialStatus', 'HighestDegree', 'EmpScore',\n",
       "       'Ethinicity', 'LatestDegreeCGPA'], dtype=object)"
      ]
     },
     "execution_count": 8,
     "metadata": {},
     "output_type": "execute_result"
    }
   ],
   "source": [
    "train['BiasInfluentialFactor'].unique()"
   ]
  },
  {
   "cell_type": "markdown",
   "metadata": {},
   "source": [
    "#### Now lets check correlation between dependent and independent variables"
   ]
  },
  {
   "cell_type": "code",
   "execution_count": 9,
   "metadata": {},
   "outputs": [
    {
     "data": {
      "text/plain": [
       "<matplotlib.axes._subplots.AxesSubplot at 0x1dd5522edf0>"
      ]
     },
     "execution_count": 9,
     "metadata": {},
     "output_type": "execute_result"
    },
    {
     "data": {
      "image/png": "[encoded data removed]",
      "text/plain": [
       "<Figure size 432x288 with 2 Axes>"
      ]
     },
     "metadata": {
      "needs_background": "light"
     },
     "output_type": "display_data"
    }
   ],
   "source": [
    "sns.heatmap(train.corr(),annot=True)"
   ]
  },
  {
   "cell_type": "markdown",
   "metadata": {},
   "source": [
    "We could see that GraduationYear and YearsOfExperince are highly negatively correlated.\n",
    "Age is highly postively correlated with YearsOfExperince and negatively correlated with GraduationYear."
   ]
  },
  {
   "cell_type": "code",
   "execution_count": 10,
   "metadata": {},
   "outputs": [
    {
     "data": {
      "text/plain": [
       "<matplotlib.axes._subplots.AxesSubplot at 0x1dd5540ea90>"
      ]
     },
     "execution_count": 10,
     "metadata": {},
     "output_type": "execute_result"
    },
    {
     "data": {
      "image/png": "[encoded data removed]",
      "text/plain": [
       "<Figure size 432x288 with 1 Axes>"
      ]
     },
     "metadata": {
      "needs_background": "light"
     },
     "output_type": "display_data"
    }
   ],
   "source": [
    "sns.countplot(train['Gender'])"
   ]
  },
  {
   "cell_type": "code",
   "execution_count": 11,
   "metadata": {},
   "outputs": [
    {
     "data": {
      "text/plain": [
       "<matplotlib.axes._subplots.AxesSubplot at 0x1dd5549b490>"
      ]
     },
     "execution_count": 11,
     "metadata": {},
     "output_type": "execute_result"
    },
    {
     "data": {
      "image/png": "[encoded data removed]",
      "text/plain": [
       "<Figure size 432x288 with 1 Axes>"
      ]
     },
     "metadata": {
      "needs_background": "light"
     },
     "output_type": "display_data"
    }
   ],
   "source": [
    "sns.barplot(train['CurrentCompanyType'],train['FitmentPercent'])"
   ]
  },
  {
   "cell_type": "code",
   "execution_count": 13,
   "metadata": {},
   "outputs": [
    {
     "data": {
      "text/plain": [
       "<matplotlib.axes._subplots.AxesSubplot at 0x1dd565476a0>"
      ]
     },
     "execution_count": 13,
     "metadata": {},
     "output_type": "execute_result"
    },
    {
     "data": {
      "image/png": "[encoded data removed]",
      "text/plain": [
       "<Figure size 432x288 with 1 Axes>"
      ]
     },
     "metadata": {
      "needs_background": "light"
     },
     "output_type": "display_data"
    }
   ],
   "source": [
    "sns.countplot(train['DepartmentInCompany'])"
   ]
  },
  {
   "cell_type": "code",
   "execution_count": 15,
   "metadata": {},
   "outputs": [
    {
     "data": {
      "text/plain": [
       "<matplotlib.axes._subplots.AxesSubplot at 0x1dd575a6340>"
      ]
     },
     "execution_count": 15,
     "metadata": {},
     "output_type": "execute_result"
    },
    {
     "data": {
      "image/png": "[encoded data removed]",
      "text/plain": [
       "<Figure size 432x288 with 1 Axes>"
      ]
     },
     "metadata": {
      "needs_background": "light"
     },
     "output_type": "display_data"
    }
   ],
   "source": [
    "sns.scatterplot(train['YearsOfExperince'],train['FitmentPercent'])"
   ]
  },
  {
   "cell_type": "markdown",
   "metadata": {},
   "source": [
    "__Lets map 'BiasInfluentialFactor' to int values__ "
   ]
  },
  {
   "cell_type": "code",
   "execution_count": 16,
   "metadata": {},
   "outputs": [],
   "source": [
    "mapper = {\"YearsOfExperince\":1,\"Unknown\":0,\"Gender\":2,\"DegreeBranch\":3,\"CurrentCompanyType\":4,\n",
    "              \"MartialStatus\":5,\"HighestDegree\":6,\"EmpScore\":7,\"Ethinicity\":8,\"LatestDegreeCGPA\":9}\n",
    "train['BiasInfluentialFactor'] = train.BiasInfluentialFactor.map(mapper)\n"
   ]
  },
  {
   "cell_type": "code",
   "execution_count": 17,
   "metadata": {},
   "outputs": [],
   "source": [
    "#Dropping 'EmpName','EmpID' columns from train and test sets as these are unique and we dont need \n",
    "#these variables in order to predict required output.\n",
    "test_EmpID = test['EmpID']\n",
    "train = train.drop(columns = ['EmpName','EmpID'], axis=1)\n",
    "test = test.drop(columns = ['EmpName','EmpID'], axis=1)"
   ]
  },
  {
   "cell_type": "code",
   "execution_count": 18,
   "metadata": {},
   "outputs": [],
   "source": [
    "# Labelencoding all categorical variables.\n",
    "from sklearn.preprocessing import LabelEncoder\n",
    "le = LabelEncoder()\n",
    "var_mod = train.select_dtypes(include='object').columns\n",
    "for i in var_mod:\n",
    "    train[i] = le.fit_transform(train[i])\n",
    "    test[i] = le.transform(test[i])\n",
    "    "
   ]
  },
  {
   "cell_type": "markdown",
   "metadata": {},
   "source": [
    "## Predicting the 'BiasInfluentialFactor' first using LGBMclassifier"
   ]
  },
  {
   "cell_type": "code",
   "execution_count": 19,
   "metadata": {},
   "outputs": [],
   "source": [
    "X= train.drop(columns = ['BiasInfluentialFactor','FitmentPercent'], axis=1)\n",
    "y= train['BiasInfluentialFactor']"
   ]
  },
  {
   "cell_type": "code",
   "execution_count": 20,
   "metadata": {},
   "outputs": [],
   "source": [
    "X_train, X_test, y_train, y_test = train_test_split(X, y, test_size=0.30, random_state=42,stratify = y)"
   ]
  },
  {
   "cell_type": "code",
   "execution_count": 21,
   "metadata": {},
   "outputs": [],
   "source": [
    "model =LGBMClassifier(\n",
    "    boosting_type='gbdt',\n",
    "    num_leaves=30,\n",
    "    max_depth=7,\n",
    "    learning_rate=0.1,\n",
    "    n_estimators=150,\n",
    "    subsample_for_bin=200000,\n",
    "    objective=None,\n",
    "    class_weight=None,\n",
    "    min_split_gain=0.0,\n",
    "    min_child_weight=0.001,\n",
    "    min_child_samples=20,\n",
    "    subsample=1.0,\n",
    "    subsample_freq=0,\n",
    "    colsample_bytree=1.0,\n",
    "    reg_alpha=0.0,\n",
    "    reg_lambda=0.0,\n",
    "    random_state=42,\n",
    "    n_jobs=-1,\n",
    "    silent=True,\n",
    "    importance_type='split'\n",
    ")"
   ]
  },
  {
   "cell_type": "code",
   "execution_count": 22,
   "metadata": {},
   "outputs": [
    {
     "data": {
      "text/plain": [
       "LGBMClassifier(max_depth=7, n_estimators=150, num_leaves=30, random_state=42)"
      ]
     },
     "execution_count": 22,
     "metadata": {},
     "output_type": "execute_result"
    }
   ],
   "source": [
    "model.fit(X_train,y_train)"
   ]
  },
  {
   "cell_type": "code",
   "execution_count": 23,
   "metadata": {},
   "outputs": [],
   "source": [
    "predictions = model.predict(X_test)"
   ]
  },
  {
   "cell_type": "code",
   "execution_count": 24,
   "metadata": {},
   "outputs": [
    {
     "data": {
      "text/plain": [
       "0.9626116768793217"
      ]
     },
     "execution_count": 24,
     "metadata": {},
     "output_type": "execute_result"
    }
   ],
   "source": [
    "roc_auc_score(y_test, model.predict_proba(X_test),multi_class='ovr')"
   ]
  },
  {
   "cell_type": "code",
   "execution_count": 25,
   "metadata": {},
   "outputs": [],
   "source": [
    "df1 = pd.DataFrame(\n",
    "    {\n",
    "        'act_bias':y_test,\n",
    "        'pred_bias':predictions\n",
    "    }\n",
    ")"
   ]
  },
  {
   "cell_type": "code",
   "execution_count": 26,
   "metadata": {},
   "outputs": [
    {
     "name": "stdout",
     "output_type": "stream",
     "text": [
      "       act_bias  pred_bias\n",
      "8784          0          0\n",
      "3463          1          1\n",
      "10197         4          0\n",
      "2118          1          1\n",
      "2386          2          2\n",
      "...         ...        ...\n",
      "7229          6          6\n",
      "11626         7          7\n",
      "4761          0          0\n",
      "1688          0          0\n",
      "3279          3          3\n",
      "\n",
      "[4094 rows x 2 columns]\n"
     ]
    }
   ],
   "source": [
    "# We could see the model is predicting well.\n",
    "print(df1)"
   ]
  },
  {
   "cell_type": "code",
   "execution_count": 27,
   "metadata": {},
   "outputs": [
    {
     "data": {
      "text/plain": [
       "array([[680,  64,  70,  66,  66,  18,   9,  15,   9,   4],\n",
       "       [ 18, 444,   0,   0,   6,   0,   0,   0,   0,   0],\n",
       "       [  4,   0, 764,   0,  10,   0,   0,   0,   0,   4],\n",
       "       [ 53,   0,   0, 795,   7,   0,   0,   0,   0,   2],\n",
       "       [161,  15,  46,   5, 122,   0,   0,   0,   0,   3],\n",
       "       [ 23,   0,   0,   0,   0,  47,   0,   0,   7,   7],\n",
       "       [  7,   0,   0,   0,   0,   0, 167,   0,   0,   1],\n",
       "       [  9,   0,   0,   0,   0,   0,   0, 176,  13,   0],\n",
       "       [ 35,   0,   0,   0,   0,  16,   0,  38,   6,   3],\n",
       "       [ 14,   4,  16,   7,  11,   2,   1,   0,   2,  22]], dtype=int64)"
      ]
     },
     "execution_count": 27,
     "metadata": {},
     "output_type": "execute_result"
    }
   ],
   "source": [
    "confusion_matrix(df1['act_bias'],df1['pred_bias'])"
   ]
  },
  {
   "cell_type": "markdown",
   "metadata": {},
   "source": [
    "It still has some miss-classification. We can reduce these errors by doing feature-engineering,outlier removals,feature selection."
   ]
  },
  {
   "cell_type": "code",
   "execution_count": 28,
   "metadata": {},
   "outputs": [
    {
     "data": {
      "text/plain": [
       "LGBMClassifier(max_depth=7, n_estimators=150, num_leaves=30, random_state=42)"
      ]
     },
     "execution_count": 28,
     "metadata": {},
     "output_type": "execute_result"
    }
   ],
   "source": [
    "model.fit(X,y)"
   ]
  },
  {
   "cell_type": "code",
   "execution_count": 29,
   "metadata": {},
   "outputs": [],
   "source": [
    "preds = model.predict_proba(test)"
   ]
  },
  {
   "cell_type": "code",
   "execution_count": 30,
   "metadata": {},
   "outputs": [],
   "source": [
    "list_test = []\n",
    "for j,i in enumerate(list(preds)):\n",
    "    ind = np.where(i==max(i))[0][0]\n",
    "    list_test.append(ind)\n",
    "    \n",
    "test['BiasInfluentialFactor'] = list_test\n"
   ]
  },
  {
   "cell_type": "markdown",
   "metadata": {},
   "source": [
    "## Predicting the 'FitmentPercent' first using LGBMRegressor"
   ]
  },
  {
   "cell_type": "code",
   "execution_count": 31,
   "metadata": {},
   "outputs": [],
   "source": [
    "new_X= train.drop(columns = ['FitmentPercent'], axis=1)\n",
    "new_y= train['FitmentPercent']"
   ]
  },
  {
   "cell_type": "code",
   "execution_count": 32,
   "metadata": {},
   "outputs": [],
   "source": [
    "new_X_train, new_X_test, new_y_train, new_y_test = train_test_split(new_X, new_y, test_size=0.20, random_state=42,stratify = y)"
   ]
  },
  {
   "cell_type": "code",
   "execution_count": 33,
   "metadata": {},
   "outputs": [],
   "source": [
    "from lightgbm import LGBMRegressor\n",
    "model2 = LGBMRegressor(\n",
    "    boosting_type='gbdt',\n",
    "    num_leaves=31,\n",
    "    max_depth=8,\n",
    "    learning_rate=0.1,\n",
    "    n_estimators=100,\n",
    "    random_state=42\n",
    "\n",
    ")"
   ]
  },
  {
   "cell_type": "code",
   "execution_count": 34,
   "metadata": {},
   "outputs": [
    {
     "data": {
      "text/plain": [
       "LGBMRegressor(max_depth=8, random_state=42)"
      ]
     },
     "execution_count": 34,
     "metadata": {},
     "output_type": "execute_result"
    }
   ],
   "source": [
    "model2.fit(new_X_train,new_y_train)"
   ]
  },
  {
   "cell_type": "code",
   "execution_count": 35,
   "metadata": {},
   "outputs": [],
   "source": [
    "preds2 = model2.predict(new_X_test)"
   ]
  },
  {
   "cell_type": "code",
   "execution_count": 36,
   "metadata": {},
   "outputs": [],
   "source": [
    "# for i in range(len(preds2)):\n",
    "#     preds2[i] = np.round(preds2[i],2)\n",
    "#     print(preds2[i])"
   ]
  },
  {
   "cell_type": "code",
   "execution_count": 37,
   "metadata": {},
   "outputs": [],
   "source": [
    "df2 = pd.DataFrame(\n",
    "    {\n",
    "        'act_bias':new_y_test,\n",
    "        'pred_bias':preds2\n",
    "    }\n",
    ")"
   ]
  },
  {
   "cell_type": "code",
   "execution_count": 39,
   "metadata": {},
   "outputs": [
    {
     "data": {
      "text/plain": [
       "6.642221440294863"
      ]
     },
     "execution_count": 39,
     "metadata": {},
     "output_type": "execute_result"
    }
   ],
   "source": [
    "#To ensure that our model is predicting well, rmse should be low. Lower the RMSE, Better the model.\n",
    "from sklearn.metrics import mean_squared_error\n",
    "\n",
    "errors = (mean_squared_error(df2['act_bias'], \n",
    "                             df2['pred_bias']))**0.5\n",
    "errors"
   ]
  },
  {
   "cell_type": "code",
   "execution_count": 40,
   "metadata": {},
   "outputs": [
    {
     "data": {
      "text/plain": [
       "LGBMRegressor(max_depth=8, random_state=42)"
      ]
     },
     "execution_count": 40,
     "metadata": {},
     "output_type": "execute_result"
    }
   ],
   "source": [
    "model2.fit(new_X,new_y)"
   ]
  },
  {
   "cell_type": "code",
   "execution_count": 41,
   "metadata": {},
   "outputs": [],
   "source": [
    "final_pred = model2.predict(test)"
   ]
  },
  {
   "cell_type": "markdown",
   "metadata": {},
   "source": [
    "__Since in the sample submission model is 'BiasInfluentialFactor' is not encoded, lets map it back to original format.__"
   ]
  },
  {
   "cell_type": "code",
   "execution_count": 42,
   "metadata": {},
   "outputs": [],
   "source": [
    "mapper = {1:\"YearsOfExperince\",0:np.nan,2:\"Gender\",3:\"DegreeBranch\",4:\"CurrentCompanyType\",\n",
    "              5:\"MartialStatus\",6:\"HighestDegree\",7:\"EmpScore\",8:\"Ethinicity\",9:\"LatestDegreeCGPA\"}\n",
    "test['BiasInfluentialFactor'] = test.BiasInfluentialFactor.map(mapper)"
   ]
  },
  {
   "cell_type": "code",
   "execution_count": 43,
   "metadata": {},
   "outputs": [],
   "source": [
    "final_df = pd.DataFrame(\n",
    "    {\n",
    "            'EmpID' : test_EmpID,\n",
    "            'BiasInfluentialFactor' : test['BiasInfluentialFactor'],\n",
    "            'FitmentPercent' : final_pred\n",
    "    }\n",
    "\n",
    ")"
   ]
  },
  {
   "cell_type": "code",
   "execution_count": 43,
   "metadata": {},
   "outputs": [],
   "source": [
    "final_df.to_csv(r'C:\\Users\\namateti\\Downloads\\0753aae4bec411eb\\final_df.csv',index=False)"
   ]
  },
  {
   "cell_type": "markdown",
   "metadata": {},
   "source": [
    "## Update:\n",
    "Since the score on the hackerearth for the final_df is 99.98, I'm submitting the same model.\n",
    "If the score would have been less we could still try different techniques(like feature-engineering,outlier removals,feature selection) to make the model better. But with the current score, I can assume my model is working better to make predictions on target variable."
   ]
  }
 ],
 "metadata": {
  "kernelspec": {
   "display_name": "Python 3",
   "language": "python",
   "name": "python3"
  },
  "language_info": {
   "codemirror_mode": {
    "name": "ipython",
    "version": 3
   },
   "file_extension": ".py",
   "mimetype": "text/x-python",
   "name": "python",
   "nbconvert_exporter": "python",
   "pygments_lexer": "ipython3",
   "version": "3.8.3"
  }
 },
 "nbformat": 4,
 "nbformat_minor": 4
}
